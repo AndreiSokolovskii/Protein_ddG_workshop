{
  "nbformat": 4,
  "nbformat_minor": 0,
  "metadata": {
    "colab": {
      "provenance": []
    },
    "kernelspec": {
      "name": "python3",
      "display_name": "Python 3"
    },
    "language_info": {
      "name": "python"
    }
  },
  "cells": [
    {
      "cell_type": "markdown",
      "source": [
        "<a target=\"_blank\" href=\"https://colab.research.google.com/github/AndreiSokolovskii/Protein_ddG_workshop/blob/main/aggregation_propensity/Aggregation_propensity_estimator.ipynb\">\n",
        "  <img src=\"https://colab.research.google.com/assets/colab-badge.svg\" alt=\"Open In Colab\"/>\n",
        "</a>"
      ],
      "metadata": {
        "id": "FcjVmH5OKET3"
      }
    },
    {
      "cell_type": "code",
      "source": [
        "# @title ## Enter data\n",
        "# @markdown Enter your amino acid sequence below in the form.\n",
        "import os\n",
        "import glob\n",
        "if not os.path.isfile(\"INIT_STEP\"):\n",
        "  os.system('wget https://github.com/AndreiSokolovskii/Protein_ddG_workshop/raw/refs/heads/main/aggregation_propensity/lib.tar.xz')\n",
        "  if not os.path.exists('tmp_fold'):\n",
        "    os.mkdir('tmp_fold')\n",
        "  os.system('cp lib.tar.xz tmp_fold')\n",
        "  os.system('tar xJf tmp_fold/lib.tar.xz -C tmp_fold')\n",
        "  os.system('cp run.sh tmp_fold')\n",
        "  os.system('chmod u+x tmp_fold/agregation_estimator')\n",
        "  os.system('chmod u+x tmp_fold/run.sh')\n",
        "  os.system('touch INIT_STEP')\n",
        "\n",
        "def get_hash(x):\n",
        "  import hashlib\n",
        "  return hashlib.sha1(x.encode()).hexdigest()\n",
        "\n",
        "# @markdown ---\n",
        "# @markdown ### Enter a sequence:\n",
        "seq = \"SGSDEDQSREQMASDVANNKSSLEDGCLSCGRKNPVSFHPLFEGGLCQTCRDRFLELFYMYDDDGYQSYCTVCCEGRELLLCSNTSCCRCFCVECLEVLVGTGTAAEAKLQEPWSCYMCLPQRCHGVLRRRKDWNVRLQAFFTSDT\" # @param {type:\"string\", placeholder:\"input sequence\"}\n",
        "\n",
        "# @markdown ---\n",
        "FILE_with_SEQUENCES = False #@param {type:\"boolean\"}\n",
        "jobname = \"test\"  #@param {type:\"string\"}\n",
        "# @markdown ---\n",
        "# @markdown ### Default values:\n",
        "pH = 7.0 # @param {type:\"number\"}\n",
        "temperature_in_Kelvin = 298 # @param {type:\"number\"}\n",
        "ionic_strength_in_M = 0.02 # @param {type:\"number\"}\n",
        "if FILE_with_SEQUENCES:\n",
        "  from google.colab import files\n",
        "  uploaded = files.upload()\n",
        "  for fn in uploaded.keys():\n",
        "    os.rename(fn, 'sequences.fa')\n",
        "\n",
        "  import sys\n",
        "  import glob\n",
        "\n",
        "  fastas = 'sequences.fa'\n",
        "\n",
        "  lines = open(fastas,'r').readlines()\n",
        "  tmp_l = \"\".join(\"\".join(lines).split('\\n'))\n",
        "  jobname += \"_\" + get_hash(tmp_l)[:5]\n",
        "  if not os.path.exists(jobname):\n",
        "    os.mkdir(jobname)\n",
        "  os.system(f'cp sequences.fa {jobname}/')\n",
        "\n",
        "  for i, line in enumerate(lines):\n",
        "      if i % 2 == 0 and i > 1:\n",
        "          index = str(int(i/2 - 1))\n",
        "          fname = fastas[:-3]+'_'+index+'.fasta'\n",
        "          with open(jobname + '/' + lines[i].strip()[1:] + '.fasta', 'w') as new_fa:\n",
        "            new_fa.write(lines[i])\n",
        "            new_fa.write(lines[i+1])\n",
        "else:\n",
        "  jobname += \"_\"+get_hash(seq)[:5]\n",
        "  if not os.path.exists(jobname):\n",
        "    os.mkdir(jobname)\n",
        "  with open(jobname+'/seq.fasta', 'w') as new_fa:\n",
        "    new_fa.write('>'+jobname+'\\n')\n",
        "    new_fa.write(seq)\n",
        "\n",
        "os.system(f'cp tmp_fold/* {jobname}')\n",
        "\n",
        "cmd = 'cd ' + jobname+ '; ' + './run.sh'\n",
        "os.system(f'''sed -i '8s/ Temp / {int(temperature_in_Kelvin)} /' {jobname}/run.sh''')\n",
        "os.system(f'''sed -i '8s/ pH / {str(pH).split('.')[0] + '.' + str(pH).split('.')[1]} /' {jobname}/run.sh''')\n",
        "os.system(f'''sed -i '8s/ io / {str(ionic_strength_in_M)} /' {jobname}/run.sh''')\n",
        "\n",
        "out_ae = os.popen(cmd).read()\n",
        "import pandas as pd\n",
        "\n",
        "agg = pd.read_csv(f\"{jobname}/tango_aggregation.txt\", header=0, sep=\"\\s+\")\n",
        "agg_index = pd.read_csv(f\"{jobname}/tango_index.txt\", header=None, names=[\"description\", \"Sequence\"], sep=\"\\s+\")\n",
        "daggregation = pd.merge(agg, agg_index, on=\"Sequence\")\n",
        "df = daggregation\n",
        "df['Aggregation_Postion'] = None\n",
        "for file in glob.glob(f'{jobname}/*.txt'):\n",
        "  name = file.split('/')[-1].split('.')[0]\n",
        "  try:\n",
        "    num = int(name)\n",
        "    row = df.loc[df['Sequence'] == num].index[0]\n",
        "    df.at[row, 'Aggregation_Postion'] = pd.read_csv(f'{jobname}/{name}.txt', header=0, sep=\"\\s+\")['Aggregation'].tolist()\n",
        "  except:\n",
        "    continue"
      ],
      "metadata": {
        "cellView": "form",
        "id": "SmBmb3D-yMUT"
      },
      "execution_count": 1,
      "outputs": []
    },
    {
      "cell_type": "code",
      "source": [
        "# @title ## Plot results\n",
        "def plot_aggregation_vs_res(df, num, jobname):\n",
        "  import numpy as np\n",
        "  import matplotlib.pyplot as plt\n",
        "  y = np.array(df['Aggregation_Postion'][num])\n",
        "  tot_agg = sum(y)\n",
        "  x = np.array(range(len(y)))\n",
        "  plt.plot(x, y,'-o')\n",
        "  plt.xlabel('Res num')\n",
        "  plt.ylabel('Aggregation')\n",
        "  plot_titile = df['description'][num]\n",
        "  legend = '$\\sum_{i}^{} AP\\_res_{i}$ = ' + str(tot_agg).split('.')[0] + '.' + str(tot_agg).split('.')[1][:2]\n",
        "  plt.legend([legend], loc='best')\n",
        "  plt.title(plot_titile)\n",
        "  plt.savefig(f'''{jobname}/{df['description'][num]}.png''')\n",
        "  plt.show()\n",
        "for i in range(len(df)):\n",
        "  plot_aggregation_vs_res(df, i, jobname)"
      ],
      "metadata": {
        "cellView": "form",
        "id": "4_2gWehQ_qIB"
      },
      "execution_count": null,
      "outputs": []
    },
    {
      "cell_type": "code",
      "source": [
        "#@title Download results\n",
        "\n",
        "#@markdown Once this cell has been executed, resulted files\n",
        "\n",
        "#@markdown will be automatically downloaded  to your computer with inputed sequence(s).\n",
        "from google.colab import files\n",
        "os.system(f'rm {jobname}.zip')\n",
        "df.to_excel(f'{jobname}/results.xlsx')\n",
        "os.system(f'''cd {jobname}; zip -q -r ../{jobname}.zip results.xlsx''')\n",
        "ADD_FASTA_FILES = False #@param {type:\"boolean\"}\n",
        "if ADD_FASTA_FILES:\n",
        "  os.system(f'''cd {jobname}; zip -q -ur ../{jobname}.zip *.fasta''')\n",
        "ADD_plot_FILES = False #@param {type:\"boolean\"}\n",
        "if ADD_plot_FILES:\n",
        "  os.system(f'''cd {jobname}; zip -q -ur ../{jobname}.zip *.png''')\n",
        "\n",
        "ADD_tango_res_FILES = False #@param {type:\"boolean\"}\n",
        "if ADD_tango_res_FILES:\n",
        "  os.system(f'''cd {jobname}; zip -q -ur ../{jobname}.zip *.txt''')\n",
        "\n",
        "\n",
        "files.download(f'{jobname}.zip')"
      ],
      "metadata": {
        "cellView": "form",
        "id": "PF0Kun3GF9FB"
      },
      "execution_count": null,
      "outputs": []
    }
  ]
}